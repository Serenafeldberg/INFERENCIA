{
  "nbformat": 4,
  "nbformat_minor": 0,
  "metadata": {
    "colab": {
      "provenance": []
    },
    "kernelspec": {
      "name": "python3",
      "display_name": "Python 3"
    },
    "language_info": {
      "name": "python"
    }
  },
  "cells": [
    {
      "cell_type": "code",
      "execution_count": 1,
      "metadata": {
        "id": "VN0MwLtPPCv7"
      },
      "outputs": [],
      "source": [
        "import numpy as np\n",
        "import matplotlib.pyplot as plt"
      ]
    },
    {
      "cell_type": "code",
      "source": [
        "normal = np.random.normal(0,1, 2000)"
      ],
      "metadata": {
        "id": "iyY7DX0zPcKO"
      },
      "execution_count": 2,
      "outputs": []
    },
    {
      "cell_type": "code",
      "source": [
        "unif = np.random.uniform(-3, 3, 2000)"
      ],
      "metadata": {
        "id": "N2egiOXAPyTG"
      },
      "execution_count": 3,
      "outputs": []
    },
    {
      "cell_type": "code",
      "source": [
        "plt.figure()\n",
        "plt.hist(normal, bins=6, color='green', alpha=0.5, label='N(0,1)', density=True)\n",
        "plt.hist(unif, bins=6, color='red', alpha=0.5, label='U(-3, 3)', density=True)\n",
        "plt.legend()\n",
        "plt.show()"
      ],
      "metadata": {
        "colab": {
          "base_uri": "https://localhost:8080/",
          "height": 430
        },
        "id": "GpzjtSaKP2e6",
        "outputId": "c8f34589-3b9e-495f-cbd5-6af9018281a4"
      },
      "execution_count": 4,
      "outputs": [
        {
          "output_type": "display_data",
          "data": {
            "text/plain": [
              "<Figure size 640x480 with 1 Axes>"
            ],
            "image/png": "[encoded data removed]"
          },
          "metadata": {}
        }
      ]
    },
    {
      "cell_type": "code",
      "source": [
        "def h_x_(X, n_bins=5): #mal\n",
        "  x, _ = np.histogram(X, bins=n_bins)\n",
        "  p_x = x/np.sum(x) #ES LA PROBABILIDAD DEL BIN (LA CANTIDAD DE MUESTRAS QUE CAEN EN EL BIN)\n",
        "  h_x = 0\n",
        "  for p in p_x:\n",
        "      # - sumatoria p(x) log (p(x))\n",
        "      if p != 0:\n",
        "        h_x -= p * np.log2(p)\n",
        "  return h_x"
      ],
      "metadata": {
        "id": "fu1fdxpqRZ0m"
      },
      "execution_count": 19,
      "outputs": []
    },
    {
      "cell_type": "code",
      "source": [
        "def h_x(X, n_bins=5):\n",
        "  x, edges = np.histogram(X, bins=n_bins)\n",
        "  ancho = edges[1] - edges[0]\n",
        "  p_x = (x/np.sum(x))\n",
        "  h_x = 0\n",
        "  for p in p_x:\n",
        "      # - sumatoria p(x) log (p(x))\n",
        "      if p != 0:\n",
        "        h_x -= p * np.log2(p/ancho)\n",
        "  return h_x\n",
        "\n",
        "  #LA UNIFORME ES LA DISTRIBUCION QUE MAS ENTROPIA TIENE."
      ],
      "metadata": {
        "id": "p12qV-fNeMjY"
      },
      "execution_count": 5,
      "outputs": []
    },
    {
      "cell_type": "code",
      "source": [
        "entropia_normal = h_x(normal, 6)\n",
        "entropia_unif = h_x(unif, 6)"
      ],
      "metadata": {
        "id": "l7P9zZRSSk8Q"
      },
      "execution_count": 27,
      "outputs": []
    },
    {
      "cell_type": "code",
      "source": [
        "print(f\"la entropia de N(0,1) es: {entropia_normal}\")\n",
        "print(f\"la entropia de U(-3,3) es: {entropia_unif}\")"
      ],
      "metadata": {
        "colab": {
          "base_uri": "https://localhost:8080/"
        },
        "id": "HuFcJRbcURVf",
        "outputId": "1dad4740-242f-4579-ccf0-1bf15d8dae74"
      },
      "execution_count": 28,
      "outputs": [
        {
          "output_type": "stream",
          "name": "stdout",
          "text": [
            "la entropia de N(0,1) es: 2.126139440805438\n",
            "la entropia de U(-3,3) es: 2.5825217846732693\n"
          ]
        }
      ]
    },
    {
      "cell_type": "code",
      "source": [
        "normal2 = np.random.normal(2, 1, 2000)"
      ],
      "metadata": {
        "id": "bBkCSiUDWMz6"
      },
      "execution_count": 29,
      "outputs": []
    },
    {
      "cell_type": "code",
      "source": [
        "entropia_normal2 = h_x(normal2, 6)"
      ],
      "metadata": {
        "id": "9mo4xH4XWRkI"
      },
      "execution_count": 34,
      "outputs": []
    },
    {
      "cell_type": "code",
      "source": [
        "print(f\"la entropia de N(2,1) es: {entropia_normal2}\")"
      ],
      "metadata": {
        "colab": {
          "base_uri": "https://localhost:8080/"
        },
        "id": "17lTXmdeWXG4",
        "outputId": "04608f2c-a639-48f3-f5b5-e40a57cbfbea"
      },
      "execution_count": 35,
      "outputs": [
        {
          "output_type": "stream",
          "name": "stdout",
          "text": [
            "la entropia de N(2,1) es: 2.0982963348264203\n"
          ]
        }
      ]
    },
    {
      "cell_type": "code",
      "source": [
        "plt.figure()\n",
        "plt.hist(normal, bins=5, color='green', alpha=0.5, label='N(0,1)', density=True)\n",
        "plt.hist(unif, bins=5, color='red', alpha=0.5, label='U(-3, 3)', density=True)\n",
        "plt.hist(normal2, bins=5, color='blue', alpha=0.5, label='N(2,1)', density=True)\n",
        "plt.legend()\n",
        "plt.show()"
      ],
      "metadata": {
        "colab": {
          "base_uri": "https://localhost:8080/",
          "height": 430
        },
        "id": "LXjzLiJ5Wkbs",
        "outputId": "15195298-342e-4632-ffcc-69abdd363303"
      },
      "execution_count": 39,
      "outputs": [
        {
          "output_type": "display_data",
          "data": {
            "text/plain": [
              "<Figure size 640x480 with 1 Axes>"
            ],
            "image/png": "[encoded data removed]"
          },
          "metadata": {}
        }
      ]
    },
    {
      "cell_type": "code",
      "source": [
        "#calcular las entropias pero las muestras vienen de otra distribucion: habria que hacer importance sampling"
      ],
      "metadata": {
        "id": "nucBEMVMsl6T"
      },
      "execution_count": null,
      "outputs": []
    },
    {
      "cell_type": "code",
      "source": [
        "#obtener muestras de dos gausianas, hacer el algoritmo EM para estimar las dos gausianas y comparar eso con K-mins"
      ],
      "metadata": {
        "id": "rY7dQliVsr35"
      },
      "execution_count": null,
      "outputs": []
    },
    {
      "cell_type": "code",
      "source": [
        "#implementar kalman: 3er ejercicio --> la variante que puede tener es que el ruido que tiene el auto tiene una media (aceleracion promedio del auto) y tambien el ruido de medicion"
      ],
      "metadata": {
        "id": "u_KYGKTzs-ZK"
      },
      "execution_count": null,
      "outputs": []
    }
  ]
}
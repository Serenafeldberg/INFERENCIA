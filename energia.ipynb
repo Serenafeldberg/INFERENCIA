{
 "cells": [
  {
   "cell_type": "code",
   "execution_count": 1,
   "metadata": {},
   "outputs": [],
   "source": [
    "import numpy as np\n",
    "import matplotlib.pyplot as plt\n",
    "import tqdm"
   ]
  },
  {
   "cell_type": "code",
   "execution_count": 2,
   "metadata": {},
   "outputs": [],
   "source": [
    "def energia(matriz): #los elementos de la matriz pueden valer 1 o -1\n",
    "    FILS = matriz.shape[0]\n",
    "    COLS = matriz.shape[1]\n",
    "    energia = 0\n",
    "    for i in range(FILS):\n",
    "        for j in range(COLS):\n",
    "            estoy = matriz[i,j]\n",
    "            if i > 0:\n",
    "                energia += estoy*matriz[i-1,j]\n",
    "            if j>0:\n",
    "                energia += estoy*matriz[i,j-1]\n",
    "            if i < FILS-1:\n",
    "                energia += estoy*matriz[i+1,j]\n",
    "            if j < COLS-1:\n",
    "                energia += estoy*matriz[i,j+1]\n",
    "    return energia*(-0.5)"
   ]
  },
  {
   "cell_type": "code",
   "execution_count": 3,
   "metadata": {},
   "outputs": [
    {
     "name": "stdout",
     "output_type": "stream",
     "text": [
      "-14.0\n"
     ]
    }
   ],
   "source": [
    "np.random.seed(1)\n",
    "choices = [-1,1]\n",
    "matriz = np.random.choice(choices, (10,10))\n",
    "print((energia(matriz)))"
   ]
  },
  {
   "cell_type": "code",
   "execution_count": 5,
   "metadata": {},
   "outputs": [
    {
     "name": "stderr",
     "output_type": "stream",
     "text": [
      "100%|██████████| 1000/1000 [00:00<00:00, 4370.84it/s]"
     ]
    },
    {
     "name": "stdout",
     "output_type": "stream",
     "text": [
      "[[ 1  1 -1 -1  1  1  1  1 -1  1]\n",
      " [ 1  1 -1 -1 -1  1 -1 -1 -1  1]\n",
      " [-1 -1  1  1  1  1  1 -1  1  1]\n",
      " [ 1  1  1  1  1  1  1 -1  1 -1]\n",
      " [-1 -1  1 -1 -1 -1 -1 -1 -1  1]\n",
      " [ 1 -1 -1  1  1  1 -1 -1 -1  1]\n",
      " [ 1 -1  1  1  1  1 -1  1  1  1]\n",
      " [ 1  1  1  1  1 -1 -1 -1 -1  1]\n",
      " [ 1  1  1 -1  1 -1  1  1 -1  1]\n",
      " [-1 -1  1 -1 -1  1  1  1  1 -1]]\n",
      "-22.0\n"
     ]
    },
    {
     "name": "stderr",
     "output_type": "stream",
     "text": [
      "\n"
     ]
    }
   ],
   "source": [
    "def simulacion_proceso_boltzmann(matriz_inicial, k, T):\n",
    "    FILS = matriz_inicial.shape[0]\n",
    "    COLS = matriz_inicial.shape[1]\n",
    "    for i in tqdm.tqdm(range(1000)):\n",
    "        energia_inicial = energia(matriz_inicial)\n",
    "        #vamos a cambiar un dipolo aleatoriamente\n",
    "        i = np.random.randint(FILS)\n",
    "        j = np.random.randint(COLS)\n",
    "        matriz2 = matriz_inicial.copy()\n",
    "        matriz2[i][j] *= -1\n",
    "        # print(matriz2)\n",
    "        energia2 = energia(matriz2)\n",
    "        delta_energia = energia2 - energia_inicial\n",
    "        if energia2 > energia_inicial:\n",
    "            p = np.exp(-delta_energia/(k*T))\n",
    "            if p > np.random.rand():\n",
    "                matriz_inicial = matriz2\n",
    "        else:\n",
    "            matriz_inicial = matriz2\n",
    "    return matriz_inicial\n",
    "\n",
    "matriz_proc_boltz = simulacion_proceso_boltzmann(matriz,1,100)\n",
    "print(matriz_proc_boltz)\n",
    "print(energia(matriz_proc_boltz))"
   ]
  },
  {
   "cell_type": "code",
   "execution_count": 57,
   "metadata": {},
   "outputs": [
    {
     "name": "stderr",
     "output_type": "stream",
     "text": [
      "  0%|          | 0/100000 [00:00<?, ?it/s]/var/folders/j2/_4b8zzy5031_q5wjdv19vlhc0000gp/T/ipykernel_85336/3329142823.py:9: RuntimeWarning: divide by zero encountered in scalar divide\n",
      "  vector_magnets.append(magnetizacion_acumulada/i)\n",
      "100%|██████████| 100000/100000 [00:10<00:00, 9215.32it/s]\n"
     ]
    },
    {
     "data": {
      "image/png": "[encoded data removed]",
      "text/plain": [
       "<Figure size 640x480 with 1 Axes>"
      ]
     },
     "metadata": {},
     "output_type": "display_data"
    }
   ],
   "source": [
    "def simulacion_magnetizacion(mat, k ,T, M):\n",
    "    FILS = mat.shape[0]\n",
    "    COLS = mat.shape[1]\n",
    "    magnetizacion_acumulada = 0\n",
    "    vector_magnets = []\n",
    "    for i in tqdm.tqdm(range(M)):\n",
    "        magnetizacion1 = np.sum(mat)\n",
    "        magnetizacion_acumulada += magnetizacion1\n",
    "        vector_magnets.append(magnetizacion_acumulada/i)\n",
    "        energia_inicial = energia(mat)\n",
    "        #vamos a cambiar un dipolo aleatoriamente\n",
    "        i = np.random.randint(FILS)\n",
    "        j = np.random.randint(COLS)\n",
    "        matriz2 = mat.copy()\n",
    "        matriz2[i][j] *= -1\n",
    "        # print(matriz2)\n",
    "        energia2 = energia(matriz2)\n",
    "        delta_energia = energia2 - energia_inicial\n",
    "        if energia2 > energia_inicial:\n",
    "            p = np.exp(-delta_energia/(k*T))\n",
    "            if p > np.random.rand():\n",
    "                mat = matriz2\n",
    "        else:\n",
    "            mat = matriz2\n",
    "    return vector_magnets\n",
    "\n",
    "vector_magnets = simulacion_magnetizacion(matriz,1,4,100000)\n",
    "plt.plot(vector_magnets)\n",
    "plt.xlabel(\"Iteraciones (M)\")\n",
    "plt.ylabel(\"Magnetización\")\n",
    "plt.show()"
   ]
  }
 ],
 "metadata": {
  "kernelspec": {
   "display_name": "Python 3",
   "language": "python",
   "name": "python3"
  },
  "language_info": {
   "codemirror_mode": {
    "name": "ipython",
    "version": 3
   },
   "file_extension": ".py",
   "mimetype": "text/x-python",
   "name": "python",
   "nbconvert_exporter": "python",
   "pygments_lexer": "ipython3",
   "version": "3.9.6"
  }
 },
 "nbformat": 4,
 "nbformat_minor": 2
}

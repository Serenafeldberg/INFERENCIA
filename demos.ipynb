{
 "cells": [
  {
   "cell_type": "markdown",
   "metadata": {},
   "source": [
    "ENTROPÍA:\n",
    "$$H(X) = -\\sum_{x\\epsilon X}^{} p(x) \\log_2 p(x)$$"
   ]
  },
  {
   "cell_type": "markdown",
   "metadata": {},
   "source": [
    "$$E(g(x)) = \\sum_{x \\epsilon X}^{} g(x) * p(x)$$"
   ]
  },
  {
   "cell_type": "markdown",
   "metadata": {},
   "source": [
    "$$g(X)=log(\\frac{1}{p(x)})$$\n",
    "Entonces:\n",
    "$$H(x)=E(log(\\frac{1}{p(x)}))=-E(log(p(x)))=E(g(X))$$\n"
   ]
  },
  {
   "cell_type": "markdown",
   "metadata": {},
   "source": [
    "ENTROPÍA CONJUNTA:\n",
    "$$H(X,Y) = -\\sum_{x\\epsilon X}^{} \\sum_{y\\epsilon Y}^{} p(x,y) \\log_2(p(x,y))=-E(log(p(x,y))$$"
   ]
  },
  {
   "cell_type": "markdown",
   "metadata": {},
   "source": [
    "ENTROPÍA CONDICIONAL:\n",
    "$$H(Y|X) = \\sum_{x\\epsilon X}^{} p(x) H(Y|X=x)=- \\sum_{x\\epsilon X}^{} p(x) \\sum_{y\\epsilon Y}^{} p(y|x) \\log_2(p(y|x))= - \\sum_{x\\epsilon X}^{} \\sum_{y\\epsilon Y}^{} p(x,y) \\log_2(p(y|x))=-\n",
    "E(log(p(y|x))$$"
   ]
  },
  {
   "cell_type": "markdown",
   "metadata": {},
   "source": [
    "MAXIMUM LIKELIHOOD ESTIMATOR:\n",
    "- EXPONENCIAL\n",
    "$$L(x_1,...,x_n|\\lambda)=\\prod_{i=1}^{n} p(x_i|\\lambda)=\\lambda e^{-\\lambda x_1} ... \\lambda e^{-\\lambda x_n} = \\lambda^{n} e^{-\\lambda \\sum_{i = 1}^{n} x_i} $$\n",
    "\n",
    "$$ log(L) = log(\\lambda^{n}) + log(e^{-\\lambda sum_{i = 1}^{n} x_i}) = n log(\\lambda) - \\lambda \\sum_{i = 1}^{n} x_i$$\n",
    "\n",
    "Derivo e igualo a 0:\n",
    "$$ \\frac{\\partial log(L)}{\\partial \\lambda} = \\frac{n}{\\lambda} - \\sum_{i = 1}^{n} x_i = 0$$\n",
    "$$ \\lambda = \\frac{n}{\\sum_{i = 1}^{n} x_i}$$\n",
    "\n"
   ]
  },
  {
   "cell_type": "markdown",
   "metadata": {},
   "source": [
    "- POISSON\n",
    "$$L(x_1,...,x_n|\\lambda)=\\prod_{i=1}^{n} p(x_i|\\lambda)=\\frac{\\lambda^{x_1} e^{-\\lambda}}{x_1!}...\\frac{\\lambda^{x_n} e^{-\\lambda}}{x_n!} $$\n",
    "\n",
    "$$log(L)) = log(\\lambda^{x_1} e^{-\\lambda}) - log(x_1!) + ... + log(\\lambda^{x_n} e^{-\\lambda}) - log(x_n!) = \\sum_{i = 1}^{n} x_i log(\\lambda) - n \\lambda - \\sum_{i = 1}^{n} log(x_i!)$$\n",
    "\n",
    "Derivo e igualo a 0:\n",
    "$$ \\frac{\\partial log(L)}{\\partial \\lambda} = \\frac{\\sum_{i = 1}^{n} x_i}{\\lambda} - n = 0$$\n",
    "$$ \\lambda = \\frac{\\sum_{i = 1}^{n} x_i}{n}$$\n",
    "(da la inversa de la exponencial)"
   ]
  },
  {
   "cell_type": "markdown",
   "metadata": {},
   "source": [
    "- NORMAL\n",
    "$$L(x_1,...,x_n|\\theta,\\sigma)=\\prod_{i=1}^{n} p(x_i|\\theta,\\sigma)= \\frac{1}{\\sqrt{2 \\Pi}} - e^{\\frac{(x - \\mu)^2}{2 \\sigma^{2}}}$$"
   ]
  },
  {
   "cell_type": "markdown",
   "metadata": {},
   "source": [
    "Demostraciones:\n",
    "\n",
    "H(x) = integral de -infinito a infinito de p(x) log(p(x)) dx = - Ep[ln(p(x))] = - E[ln(1/raiz2pi*sigma) - (x - mu)**2/2 sigma**2] = - ln(1/raiz2pi*sigma) + E[(x - mu)**2/(2 sigma**2)] = ln (raiz2pi*sigma) + 1/2 sigma**2 = ln(2pi*sigma**2) + 1/2 \n",
    "\n",
    "H(x) = integral de -infinito a infinito de p(x) log(p(x)) dx = - Ep[ln(lambda e**(-lambda x))] = - ln(lambda) - E[-lambda x] = - ln(lambda) + lambda E(x) = - ln(lambda) + lambda * 1/lambda = 1 - ln(lambda) = 1 + ln(1/lambda)"
   ]
  },
  {
   "cell_type": "markdown",
   "metadata": {},
   "source": [
    "D(p||q) >= 0\n",
    "- D(p||q) <= 0      A = {x | p(x) >= 0}\n",
    "- sum de todos los x en A p(x) log(p(x)/q(x)) = \n",
    "sum de todos los x en A p(x) log (q(x)/p(x)) >= log(sum de todos los x en A p(x) q(x) / p(x)) <= 0\n",
    "                                                log(sum de todos los x en A q(x)) <= 0\n",
    "                                                log(algo mas chico que 1) <= 0\n",
    "\n",
    "sum de todos los x en X q(x) = 1 -> sum de todos los x en A es <= 1"
   ]
  },
  {
   "cell_type": "markdown",
   "metadata": {},
   "source": [
    "H(X|Y) <= H(X) \n",
    "- sum de todas las x sum de todas las y p(x,y) log(p(x, y)/ p(y)) <= \n",
    "- sum de todas las x sum de todas las y p(x, y) log(p(y|x)p(x)/ p(y)) <=\n",
    "- sum de todas las x sum de todas las y p(x, y) log(p(y|x)) - sum de todas las x sum de todas las y p(x, y) log(p(x)) + sum de todas las x sum de todas las y p(x, y) log(p(y)) <=\n",
    "- sum de todas las x sum de todas las y p(x, y) log(p(y|x)) - sum de todas las x p(x) log(p(x)) + sum de todas las y p(y) log(p(y)) <= sum de todas las x p(x) log(p(x))\n"
   ]
  },
  {
   "cell_type": "markdown",
   "metadata": {},
   "source": [
    "log en base A (B) = log en base C (B) / log en base C (A)\n",
    "-> ln (2) = 1 / log en base 2 (e)"
   ]
  },
  {
   "cell_type": "markdown",
   "metadata": {},
   "source": [
    "D(p(x, y)||q(x, y)) = D(p(x)||q(x)) + D(p(y|x)||q(y|x))\n",
    "sum de todas las x sum de todas las y p(x, y) log(p(x, y)/q(x, y)) \n",
    "sum sum p(x, y) log(p(x)p(y|x)/q(x)p(y|x)) \n",
    "sum sum p(x, y) log(p(x)/q(x) * p(y|x)/p(y|x)) \n",
    "sum sum p(x, y) log(p(x)/q(x)) + sum sum p(x, y) log(p(y|x)/p(y|x))\n",
    "sum de todas las x log(p(x)/q(x)) sum de todas las y p(x, y) + sum sum p(x, y) log(p(y|x)/p(y|x))\n",
    "sum de todas las x p(x) log(p(x)/q(x)) + sum sum p(x, y) log(p(y|x)/p(y|x))\n",
    "D(p(x)||q(x)) + D(p(y|x)||q(y|x))\n",
    "\n"
   ]
  }
 ],
 "metadata": {
  "language_info": {
   "name": "python"
  }
 },
 "nbformat": 4,
 "nbformat_minor": 2
}

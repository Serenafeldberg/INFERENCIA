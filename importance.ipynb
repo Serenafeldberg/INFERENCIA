{
 "cells": [
  {
   "cell_type": "code",
   "execution_count": 2,
   "metadata": {},
   "outputs": [],
   "source": [
    "import numpy as np\n",
    "import matplotlib.pyplot as plt\n",
    "from scipy.stats import expon, norm, uniform"
   ]
  },
  {
   "cell_type": "code",
   "execution_count": 3,
   "metadata": {},
   "outputs": [],
   "source": [
    "N = 10000\n",
    "x1 = np.random.uniform(0, 1, N)\n",
    "x2 = np.random.uniform(0, 1, N)"
   ]
  },
  {
   "cell_type": "code",
   "execution_count": 11,
   "metadata": {},
   "outputs": [
    {
     "data": {
      "image/png": "[encoded data removed]",
      "text/plain": [
       "<Figure size 432x288 with 1 Axes>"
      ]
     },
     "metadata": {
      "needs_background": "light"
     },
     "output_type": "display_data"
    }
   ],
   "source": [
    "def normal (x1, x2):\n",
    "    return np.sqrt(-2 * np.log(x1)) * np.cos(2 * np.pi * x2)\n",
    "\n",
    "def plot_normal (x_normal):\n",
    "    plt.hist(x_normal, bins=20, density=True)\n",
    "    plt.show()\n",
    "\n",
    "\n",
    "normal = np.random.normal(0, 1, N)\n",
    "plot_normal(normal)\n"
   ]
  },
  {
   "cell_type": "code",
   "execution_count": 16,
   "metadata": {},
   "outputs": [
    {
     "data": {
      "image/png": "[encoded data removed]",
      "text/plain": [
       "<Figure size 432x288 with 1 Axes>"
      ]
     },
     "metadata": {
      "needs_background": "light"
     },
     "output_type": "display_data"
    }
   ],
   "source": [
    "q = np.random.exponential(1, N) + 4  # Array de datos exponenciales e^X + 4\n",
    "\n",
    "x = np.linspace(4, 8, 10000)\n",
    "y = np.linspace(0, 1, 10000)\n",
    "\n",
    "Nmc = 30000000\n",
    "ux = np.random.uniform (-10, 10, Nmc)\n",
    "uy = np.random.uniform (0, 1/np.sqrt(2*np.pi), Nmc)\n",
    "\n",
    "\n",
    "def plot_qx (normal):\n",
    "    plt.hist(normal, bins=20, density=True)\n",
    "    plt.plot(x, expon.pdf(x, 4))\n",
    "    # plt.plot(ux, uy, '.')\n",
    "    plt.show()\n",
    "\n",
    "plot_qx(normal)"
   ]
  },
  {
   "cell_type": "code",
   "execution_count": 17,
   "metadata": {},
   "outputs": [
    {
     "name": "stdout",
     "output_type": "stream",
     "text": [
      "Area con MC:  3.2447305472649864e-05\n",
      "Area con MC:  3.989422804014327e-05\n",
      "Area con IS:  3.188608402678943e-05\n",
      "Area sin IS:  3.167124183311986e-05\n"
     ]
    }
   ],
   "source": [
    "# MONTE CARLO\n",
    "ux_4 = np.where(ux > 4) #Indices de los valores mayores a 4\n",
    "uy_4 = np.where(uy[ux_4] < norm.pdf(ux[ux_4], 0, 1))\n",
    "area = len(uy_4[0]) / len(uy) * (20 * 1/np.sqrt(2*np.pi)) # 20*1/np.sqrt(2*np.pi) = area de las uniformes\n",
    "print(\"Area con MC: \", area)\n",
    "\n",
    "#Sergio\n",
    "M = 1000000\n",
    "f0 = 1/np.sqrt(2*np.pi)\n",
    "x = 20 * np.random.rand(M, 1) - 10\n",
    "y = f0 * np.random.rand(M, 1)\n",
    "\n",
    "x4 = np.where(x > 4)\n",
    "y4 = np.where(y[x4] < norm.pdf(x[x4], 0, 1))\n",
    "\n",
    "AreaMC = len(y4[0]) / len(y) * f0 * 20\n",
    "print(\"Area con MC: \", AreaMC)\n",
    "\n",
    "\n",
    "w = (np.exp(-q**2/2) / np.sqrt(2 * np.pi)) / expon.pdf(q, 4)\n",
    "areaIS = np.sum(w) / N\n",
    "\n",
    "area = norm.sf(4) # P(X > 4)\n",
    "\n",
    "print(\"Area con IS: \", areaIS)\n",
    "print(\"Area sin IS: \", area)\n"
   ]
  },
  {
   "cell_type": "markdown",
   "metadata": {},
   "source": [
    "Ep [p(x>4)] = integral (4, inf) p(x) dx    donde p(x) es la gausiana\n",
    "-> integral (4, inf) p(x) dx  = integral (-inf, inf) p(x) I(x) dx = Ep [I]   donde I es el escalon en 4\n",
    "\n",
    "-> Ep[I] = Eq [I p(x)/q(x)] = Eq [p(x)/q(x)]  donde q(x) es la expoencial desde 4"
   ]
  },
  {
   "cell_type": "markdown",
   "metadata": {},
   "source": [
    "EJERCICIO:\n",
    "Estimar la entropía de la uniforme (-3, 3) cuando las distribución que nos provee las muestras de una N(3,1)\n",
    "\n",
    "sabemos que H = Ep [log2 (1/p(x))] = Eq [log2(1/p(x)) * p(x) / q(x)] dado que q(x) ~ N(3,1)\n",
    "x ~ U(-3,3)"
   ]
  },
  {
   "cell_type": "code",
   "execution_count": 7,
   "metadata": {},
   "outputs": [
    {
     "name": "stdout",
     "output_type": "stream",
     "text": [
      "h_IS:  1.9875518997196453\n",
      "h_X:  2.584508503177915\n"
     ]
    }
   ],
   "source": [
    "N = 10000\n",
    "normal = np.random.normal(3, 1, N)\n",
    "\n",
    "w = (np.log2 (6) * uniform.pdf(normal)) / (norm.pdf(normal, 3, 1))\n",
    "\n",
    "w = []\n",
    "for i in range(N):\n",
    "    if uniform.pdf(normal[i], loc=-3, scale = 6 ) != 0:\n",
    "        w.append((np.log2 (1/uniform.pdf(normal[i], loc=-3, scale = 6 )) * uniform.pdf(normal[i], loc=-3, scale=6)) / (norm.pdf(normal[i], 3, 1)))\n",
    "    else:\n",
    "        w.append(0)\n",
    "\n",
    "h_IS = np.sum(w) / N\n",
    "\n",
    "print(\"h_IS: \", h_IS)\n",
    "\n",
    "\n",
    "\n",
    "#TEORICA\n",
    "u = np.random.uniform(-3, 3, N)\n",
    "\n",
    "def h_x(X, n_bins=5):\n",
    "    x, edges = np.histogram(X, bins=n_bins)\n",
    "    ancho = edges[1] - edges[0]\n",
    "    p_x = (x/np.sum(x)) \n",
    "    h_x = 0\n",
    "    for p in p_x:\n",
    "    # - sumatoria p(x) log (p(x))\n",
    "        if p != 0:\n",
    "            h_x -= p * np.log2(p/ancho) \n",
    "    return h_x\n",
    "\n",
    "print(\"h_X: \", h_x(u))\n"
   ]
  }
 ],
 "metadata": {
  "kernelspec": {
   "display_name": "Python 3",
   "language": "python",
   "name": "python3"
  },
  "language_info": {
   "codemirror_mode": {
    "name": "ipython",
    "version": 3
   },
   "file_extension": ".py",
   "mimetype": "text/x-python",
   "name": "python",
   "nbconvert_exporter": "python",
   "pygments_lexer": "ipython3",
   "version": "3.9.6"
  },
  "orig_nbformat": 4
 },
 "nbformat": 4,
 "nbformat_minor": 2
}

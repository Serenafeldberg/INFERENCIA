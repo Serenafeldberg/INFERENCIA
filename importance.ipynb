{
 "cells": [
  {
   "cell_type": "code",
   "execution_count": 111,
   "metadata": {},
   "outputs": [],
   "source": [
    "import numpy as np\n",
    "import matplotlib.pyplot as plt\n",
    "from scipy.stats import expon, norm, uniform"
   ]
  },
  {
   "cell_type": "code",
   "execution_count": 112,
   "metadata": {},
   "outputs": [],
   "source": [
    "N = 10000\n",
    "x1 = np.random.uniform(0, 1, N)\n",
    "x2 = np.random.uniform(0, 1, N)"
   ]
  },
  {
   "cell_type": "code",
   "execution_count": 113,
   "metadata": {},
   "outputs": [
    {
     "data": {
      "image/png": "[encoded data removed]",
      "text/plain": [
       "<Figure size 432x288 with 1 Axes>"
      ]
     },
     "metadata": {
      "needs_background": "light"
     },
     "output_type": "display_data"
    }
   ],
   "source": [
    "def normal (x1, x2):\n",
    "    return np.sqrt(-2 * np.log(x1)) * np.cos(2 * np.pi * x2)\n",
    "\n",
    "def plot_normal (x_normal):\n",
    "    plt.hist(x_normal, bins=20, density=True)\n",
    "    plt.show()\n",
    "\n",
    "\n",
    "normal = np.random.normal(0, 1, N)\n",
    "plot_normal(normal)\n"
   ]
  },
  {
   "cell_type": "code",
   "execution_count": 114,
   "metadata": {},
   "outputs": [
    {
     "data": {
      "image/png": "[encoded data removed]",
      "text/plain": [
       "<Figure size 432x288 with 1 Axes>"
      ]
     },
     "metadata": {
      "needs_background": "light"
     },
     "output_type": "display_data"
    }
   ],
   "source": [
    "q = np.random.exponential(1, N) + 4  # Array de datos exponenciales e^X + 4\n",
    "\n",
    "def plot_qx (normal):\n",
    "    plt.hist(normal, bins=20, density=True)\n",
    "    x = np.linspace(4, 8, 10000)\n",
    "    plt.plot(x, expon.pdf(x, 4))\n",
    "    plt.show()\n",
    "\n",
    "plot_qx(normal)"
   ]
  },
  {
   "cell_type": "code",
   "execution_count": 115,
   "metadata": {},
   "outputs": [
    {
     "name": "stdout",
     "output_type": "stream",
     "text": [
      "Area con IS:  3.17190239241107e-05\n",
      "Area sin IS:  3.167124183311986e-05\n"
     ]
    }
   ],
   "source": [
    "w = (np.exp(-q**2/2) / np.sqrt(2 * np.pi)) / expon.pdf(q, 4)\n",
    "areaIS = np.sum(w) / N\n",
    "\n",
    "area = norm.sf(4) # P(X > 4)\n",
    "\n",
    "print(\"Area con IS: \", areaIS)\n",
    "print(\"Area sin IS: \", area)\n"
   ]
  },
  {
   "cell_type": "markdown",
   "metadata": {},
   "source": [
    "Ep [p(x>4)] = integral (4, inf) p(x) dx    donde p(x) es la gausiana\n",
    "-> integral (4, inf) p(x) dx  = integral (-inf, inf) p(x) I(x) dx = Ep [I]   donde I es el escalon en 4\n",
    "\n",
    "-> Ep[I] = Eq [I p(x)/q(x)] = Eq [p(x)/q(x)]  donde q(x) es la expoencial desde 4"
   ]
  },
  {
   "cell_type": "markdown",
   "metadata": {},
   "source": [
    "EJERCICIO:\n",
    "Estimar la entropía de la uniforme (-3, 3) cuando las distribución que nos provee las muestras de una N(3,1)\n",
    "\n",
    "sabemos que H = Ep [log2 (1/p(x))] = Eq [log2(1/p(x)) * p(x) / q(x)] dado que q(x) ~ N(3,1)\n",
    "x ~ U(-3,3)"
   ]
  },
  {
   "cell_type": "code",
   "execution_count": 126,
   "metadata": {},
   "outputs": [
    {
     "name": "stdout",
     "output_type": "stream",
     "text": [
      "[0. 0. 0. ... 0. 0. 0.]\n",
      "h_IS:  2.4179703106233803\n",
      "h_X:  2.583817954219896\n"
     ]
    }
   ],
   "source": [
    "N = 10000\n",
    "normal = np.random.normal(3, 1, N)\n",
    "\n",
    "w = (np.log2 (6) * uniform.pdf(normal)) / (norm.pdf(normal, 3, 1))\n",
    "h_IS = np.sum(w) / N\n",
    "\n",
    "print(\"h_IS: \", h_IS)\n",
    "\n",
    "\n",
    "#TEORICA\n",
    "u = np.random.uniform(-3, 3, N)\n",
    "\n",
    "def h_x(X, n_bins=5):\n",
    "    x, edges = np.histogram(X, bins=n_bins)\n",
    "    ancho = edges[1] - edges[0]\n",
    "    p_x = (x/np.sum(x)) \n",
    "    h_x = 0\n",
    "    for p in p_x:\n",
    "    # - sumatoria p(x) log (p(x))\n",
    "        if p != 0:\n",
    "            h_x -= p * np.log2(p/ancho) \n",
    "    return h_x\n",
    "\n",
    "print(\"h_X: \", h_x(u))\n"
   ]
  }
 ],
 "metadata": {
  "kernelspec": {
   "display_name": "Python 3",
   "language": "python",
   "name": "python3"
  },
  "language_info": {
   "codemirror_mode": {
    "name": "ipython",
    "version": 3
   },
   "file_extension": ".py",
   "mimetype": "text/x-python",
   "name": "python",
   "nbconvert_exporter": "python",
   "pygments_lexer": "ipython3",
   "version": "3.9.6"
  },
  "orig_nbformat": 4
 },
 "nbformat": 4,
 "nbformat_minor": 2
}

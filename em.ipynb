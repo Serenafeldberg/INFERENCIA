{
 "cells": [
  {
   "cell_type": "code",
   "execution_count": 2,
   "metadata": {},
   "outputs": [],
   "source": [
    "import numpy as np"
   ]
  },
  {
   "cell_type": "code",
   "execution_count": 3,
   "metadata": {},
   "outputs": [
    {
     "name": "stdout",
     "output_type": "stream",
     "text": [
      "[2.44662598 1.96317568 2.30981177 1.79817134 1.91839516 2.08490066\n",
      " 1.56286928 1.93209923 2.16019905 2.45530882 2.6365153  2.06369434\n",
      " 2.22553402 2.17067453 2.36838419 1.88906257 1.40003335 1.73937428\n",
      " 1.81873529 2.06248901 2.02718745 1.65547286 2.33791204 2.09872327\n",
      " 2.71174305 2.24810435 1.7557655  1.6271376  2.57363411 2.47684989\n",
      " 2.67563052 1.41592815 1.16987534 2.03240587 1.97234812 1.7963849\n",
      " 1.53099972 1.01291765 1.38896627 2.39607235 2.0693051  2.6736665\n",
      " 2.51504441 1.37446082 1.71144912 2.72647347 2.75603277 1.67898602\n",
      " 2.16444303 1.80760316]\n",
      "[6.19491571 4.19678752 5.75794446 5.3735181  5.87223959 6.52032021\n",
      " 4.15303149 4.21187267 6.42610617 3.22832932 5.3351474  6.96346285\n",
      " 5.80392798 3.61117334 5.84257333 4.88381594 4.10810094 3.97386859\n",
      " 5.66336174 4.17789963 5.402485   4.46615386 5.4531495  6.43871016\n",
      " 6.39986421 3.48383638 4.45496875 4.63459429 6.48999834 6.56513883\n",
      " 3.97674517 5.60335313 6.56934899 5.28296595 6.03147221 3.62659041\n",
      " 4.55726044 5.31573219 5.02579873 5.67438182 4.21951456 4.15969264\n",
      " 5.22855207 3.72086419 4.98633643 4.19702048 5.79635062 3.90896536\n",
      " 4.38067366 4.20699085]\n"
     ]
    }
   ],
   "source": [
    "c1 = np.random.normal(2, 0.5, 50)\n",
    "c2 = np.random.normal(5, 1, 50)\n",
    "\n",
    "print(c1)\n",
    "print(c2)"
   ]
  },
  {
   "cell_type": "code",
   "execution_count": 4,
   "metadata": {},
   "outputs": [
    {
     "name": "stdout",
     "output_type": "stream",
     "text": [
      "0.0015623509503289595\n"
     ]
    }
   ],
   "source": [
    "def normal (x, mu, sigma):\n",
    "    return 1/(sigma * (2 * np.pi)**0.5) * np.exp(-0.5 * ((x - mu) / sigma)**2)\n",
    "\n",
    "def gamma (x, mu1, sigma1, mu2, sigma2, p1, p2):\n",
    "    clase1 = p1 * normal(x, mu1, sigma1)\n",
    "    clase2 = p2 * normal(x, mu2, sigma2)\n",
    "    return clase1 / (clase1 + clase2)\n",
    "\n",
    "print(gamma(6.23, 2, 1, 4, 1, 0.5, 0.5))"
   ]
  },
  {
   "cell_type": "code",
   "execution_count": 5,
   "metadata": {},
   "outputs": [
    {
     "name": "stdout",
     "output_type": "stream",
     "text": [
      "2.129097610752436\n",
      "5.090902389247565\n"
     ]
    }
   ],
   "source": [
    "c1 = [1.40, 2.22,  2.58, 2.35, 2.23]\n",
    "c2 = [6.97, 3.41, 3.58, 5.13, 6.23]\n",
    "datos = c1 + c2\n",
    "\n",
    "mu1 = []\n",
    "mu2 = []\n",
    "for val in datos:\n",
    "    gamma1 = gamma(val, 2, 1, 4, 1, 0.5, 0.5)\n",
    "    mu1.append(val * gamma1)\n",
    "    mu2.append(val * (1 - gamma1))\n",
    "\n",
    "mu1 = sum(mu1) / 5\n",
    "print(mu1)\n",
    "\n",
    "mu2 = sum(mu2) / 5\n",
    "print(mu2)"
   ]
  },
  {
   "cell_type": "code",
   "execution_count": 6,
   "metadata": {},
   "outputs": [
    {
     "name": "stdout",
     "output_type": "stream",
     "text": [
      "0.3740895476789599\n",
      "3.089185300350537\n",
      "4.655227570396532 0.4655227570396532\n",
      "5.344772429603468 0.5344772429603468\n"
     ]
    }
   ],
   "source": [
    "sigma1 = []\n",
    "sigma2 = []\n",
    "\n",
    "n1 = 0\n",
    "n2 = 0\n",
    "\n",
    "for val in datos:\n",
    "    gamma1 = gamma(val, 2, 1, 4, 1, 0.5, 0.5)\n",
    "    sigma1.append((val - mu1)**2 * gamma1)\n",
    "    sigma2.append((val - mu2)**2 * (1 - gamma1))\n",
    "\n",
    "    n1 += gamma1\n",
    "    n2 += (1 - gamma1)\n",
    "\n",
    "sigma1 = sum(sigma1) / 5\n",
    "print(sigma1)\n",
    "\n",
    "sigma2 = sum(sigma2) / 5\n",
    "print(sigma2)\n",
    "\n",
    "print(n1, n1/10)\n",
    "print(n2, n2/10)"
   ]
  },
  {
   "cell_type": "code",
   "execution_count": 13,
   "metadata": {},
   "outputs": [
    {
     "name": "stdout",
     "output_type": "stream",
     "text": [
      "CLASE 1 1.9838809655060061 0.26229585645037296 100.0 0.4\n",
      "CLASE 2 14.935121011129404 0.8074868411038431 150.0 0.6\n",
      "\n"
     ]
    }
   ],
   "source": [
    "def normal (x, mu, sigma):\n",
    "    sigma = np.sqrt(sigma)\n",
    "    return 1/(sigma * (2 * np.pi)**0.5) * np.exp(-0.5 * ((x - mu) / sigma)**2)\n",
    "\n",
    "def gamma (x, mu1, sigma1, mu2, sigma2, p1, p2):\n",
    "    clase1 = p1 * normal(x, mu1, sigma1)\n",
    "    clase2 = p2 * normal(x, mu2, sigma2)\n",
    "    return clase1 / (clase1 + clase2)\n",
    "\n",
    "def set_datos ():\n",
    "    mu1 = 2\n",
    "    sigma1 = 1\n",
    "    mu2 = 4\n",
    "    sigma2 = 1\n",
    "    p1 = 0.5\n",
    "    p2 = 0.5\n",
    "    return mu1, sigma1, mu2, sigma2, p1, p2\n",
    "\n",
    "def em (datos, mu1, sigma1, mu2, sigma2, p1, p2, n1, n2):\n",
    "    gamma1 = []\n",
    "    gamma2 = []\n",
    "    for val in datos:\n",
    "        gamma1.append(gamma(val, mu1, sigma1, mu2, sigma2, p1, p2))\n",
    "        gamma2.append(1 - gamma(val, mu1, sigma1, mu2, sigma2, p1, p2))\n",
    "\n",
    "    \n",
    "    mu1 = sum([val * gamma1[i] for i, val in enumerate(datos)]) / n1\n",
    "    mu2 = sum([val * gamma2[i] for i, val in enumerate(datos)]) / n2\n",
    "\n",
    "    sigma1 = sum([(val - mu1)**2 * gamma1[i] for i, val in enumerate(datos)]) / n1\n",
    "    sigma2 = sum([(val - mu2)**2 * gamma2[i] for i, val in enumerate(datos)]) / n2\n",
    "\n",
    "    n1 = sum(gamma1)\n",
    "    n2 = sum(gamma2)\n",
    "\n",
    "    p1 = n1 / len(datos)\n",
    "    p2 = n2 / len(datos)\n",
    "\n",
    "    return mu1, sigma1, mu2, sigma2, p1, p2, n1, n2\n",
    "\n",
    "def algoritmo (datos, iteraciones):\n",
    "    mu1, sigma1, mu2, sigma2, p1, p2 = set_datos()\n",
    "    n1 = p1 * len(datos)\n",
    "    n2 = p2 * len(datos)\n",
    "    for i in range(iteraciones):\n",
    "        mu1, sigma1, mu2, sigma2, p1, p2, n1, n2 = em(datos, mu1, sigma1, mu2, sigma2, p1, p2, n1, n2)\n",
    "    print(\"CLASE 1\", mu1, sigma1, n1, p1)\n",
    "    print(\"CLASE 2\", mu2, sigma2, n2, p2)\n",
    "    print()\n",
    "\n",
    "# c1 = [1.40, 2.22,  2.58, 2.35, 2.23]\n",
    "# c2 = [6.97, 3.41, 3.58, 5.13, 6.23]\n",
    "# datos = c1 + c2\n",
    "c1 = np.random.normal(2, 0.5, 100)\n",
    "c2 = np.random.normal(15, 1, 150)\n",
    "datos = np.concatenate((c1, c2))\n",
    "\n",
    "algoritmo(datos, 500)"
   ]
  }
 ],
 "metadata": {
  "kernelspec": {
   "display_name": "Python 3",
   "language": "python",
   "name": "python3"
  },
  "language_info": {
   "codemirror_mode": {
    "name": "ipython",
    "version": 3
   },
   "file_extension": ".py",
   "mimetype": "text/x-python",
   "name": "python",
   "nbconvert_exporter": "python",
   "pygments_lexer": "ipython3",
   "version": "3.9.6"
  },
  "orig_nbformat": 4
 },
 "nbformat": 4,
 "nbformat_minor": 2
}

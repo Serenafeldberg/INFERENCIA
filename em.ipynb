{
 "cells": [
  {
   "cell_type": "code",
   "execution_count": 1,
   "metadata": {},
   "outputs": [],
   "source": [
    "import numpy as np"
   ]
  },
  {
   "cell_type": "code",
   "execution_count": 36,
   "metadata": {},
   "outputs": [
    {
     "name": "stdout",
     "output_type": "stream",
     "text": [
      "[2.44293594 0.92347099 2.40996862 2.55214912 1.25673106 1.65752002\n",
      " 0.7966433  2.42650246 1.97684309 2.98389514 2.11593795 2.6446184\n",
      " 1.22616571 2.58437819 2.4727548  1.44838249 1.93948781 1.54429022\n",
      " 2.13951099 1.19081946 2.60396344 1.81256221 1.58713056 1.08199837\n",
      " 1.7956611  1.85705135 2.47219741 2.19672528 2.29647205 2.42813388\n",
      " 2.24823018 1.96725473 1.34950836 1.7035361  1.28330697 1.96997524\n",
      " 2.42237231 2.22026444 1.82882597 2.47131445 2.24459223 1.82766501\n",
      " 1.90539912 2.0581744  2.00169749 1.82854594 2.1178764  2.131208\n",
      " 2.68514931 1.90469927]\n",
      "[6.25558124 3.4824922  4.91301338 6.58356912 4.57816981 4.6883575\n",
      " 5.06404959 4.20332031 2.95705735 5.46414088 4.88271528 3.24705079\n",
      " 5.38000383 5.49726726 6.46933343 5.2742163  5.50994938 4.3976736\n",
      " 4.36926067 4.32100791 3.22231218 5.24607828 4.88523203 5.29387519\n",
      " 2.23597412 6.25587545 6.52254718 3.60235806 6.22392061 3.51630657\n",
      " 3.28309559 6.36297245 7.29716354 5.10348468 5.84156095 5.91948671\n",
      " 4.01531993 4.28950318 3.96920722 4.35860844 3.33461578 4.82674182\n",
      " 4.10216106 4.31046464 4.09784473 5.6523062  5.85972557 2.54270888\n",
      " 4.04921718 5.37971711]\n"
     ]
    }
   ],
   "source": [
    "c1 = np.random.normal(2, 0.5, 50)\n",
    "c2 = np.random.normal(5, 1, 50)\n",
    "\n",
    "print(c1)\n",
    "print(c2)"
   ]
  },
  {
   "cell_type": "code",
   "execution_count": 20,
   "metadata": {},
   "outputs": [
    {
     "name": "stdout",
     "output_type": "stream",
     "text": [
      "0.0015623509503289595\n"
     ]
    }
   ],
   "source": [
    "def normal (x, mu, sigma):\n",
    "    return 1/(sigma * (2 * np.pi)**0.5) * np.exp(-0.5 * ((x - mu) / sigma)**2)\n",
    "\n",
    "def gamma (x, mu1, sigma1, mu2, sigma2, p1, p2):\n",
    "    clase1 = p1 * normal(x, mu1, sigma1)\n",
    "    clase2 = p2 * normal(x, mu2, sigma2)\n",
    "    return clase1 / (clase1 + clase2)\n",
    "\n",
    "print(gamma(6.23, 2, 1, 4, 1, 0.5, 0.5))"
   ]
  },
  {
   "cell_type": "code",
   "execution_count": 26,
   "metadata": {},
   "outputs": [
    {
     "name": "stdout",
     "output_type": "stream",
     "text": [
      "2.129097610752436\n",
      "5.090902389247565\n"
     ]
    }
   ],
   "source": [
    "c1 = [1.40, 2.22,  2.58, 2.35, 2.23]\n",
    "c2 = [6.97, 3.41, 3.58, 5.13, 6.23]\n",
    "datos = c1 + c2\n",
    "\n",
    "mu1 = []\n",
    "mu2 = []\n",
    "for val in datos:\n",
    "    gamma1 = gamma(val, 2, 1, 4, 1, 0.5, 0.5)\n",
    "    mu1.append(val * gamma1)\n",
    "    mu2.append(val * (1 - gamma1))\n",
    "\n",
    "mu1 = sum(mu1) / 5\n",
    "print(mu1)\n",
    "\n",
    "mu2 = sum(mu2) / 5\n",
    "print(mu2)"
   ]
  },
  {
   "cell_type": "code",
   "execution_count": 29,
   "metadata": {},
   "outputs": [
    {
     "name": "stdout",
     "output_type": "stream",
     "text": [
      "0.3740895476789599\n",
      "3.089185300350537\n",
      "4.655227570396532 0.4655227570396532\n",
      "5.344772429603468 0.5344772429603468\n"
     ]
    }
   ],
   "source": [
    "sigma1 = []\n",
    "sigma2 = []\n",
    "\n",
    "n1 = 0\n",
    "n2 = 0\n",
    "\n",
    "for val in datos:\n",
    "    gamma1 = gamma(val, 2, 1, 4, 1, 0.5, 0.5)\n",
    "    sigma1.append((val - mu1)**2 * gamma1)\n",
    "    sigma2.append((val - mu2)**2 * (1 - gamma1))\n",
    "\n",
    "    n1 += gamma1\n",
    "    n2 += (1 - gamma1)\n",
    "\n",
    "sigma1 = sum(sigma1) / 5\n",
    "print(sigma1)\n",
    "\n",
    "sigma2 = sum(sigma2) / 5\n",
    "print(sigma2)\n",
    "\n",
    "print(n1, n1/10)\n",
    "print(n2, n2/10)"
   ]
  },
  {
   "cell_type": "code",
   "execution_count": 46,
   "metadata": {},
   "outputs": [
    {
     "name": "stdout",
     "output_type": "stream",
     "text": [
      "CLASE 1 2.129097610752436 0.3740895476789599 4.655227570396532 0.4655227570396532\n",
      "CLASE 2 5.090902389247565 3.089185300350537 5.344772429603468 0.5344772429603468\n",
      "\n",
      "CLASE 1 2.0146824272936885 0.1637896805317927 4.272260445076678 0.42722604450766777\n",
      "CLASE 2 4.999500946170588 3.173716679082308 5.727739554923321 0.5727739554923321\n",
      "\n",
      "CLASE 1 1.3704466889076292 0.4856825742069748 2.592321269466439 0.2592321269466439\n",
      "CLASE 2 5.280459163492558 6.298408246293894 7.4076787305335605 0.740767873053356\n",
      "\n",
      "CLASE 1 1.8943709805746012 0.18946799466640432 2.4686448507551466 0.24686448507551467\n",
      "CLASE 2 4.210385324384872 3.0821365555347255 7.531355149244853 0.7531355149244854\n",
      "\n",
      "CLASE 1 1.4395206072201923 0.3868502610675281 1.6595934418190397 0.16595934418190397\n",
      "CLASE 2 4.321444709547827 3.838625593685178 8.340406558180959 0.8340406558180959\n",
      "\n"
     ]
    }
   ],
   "source": [
    "def normal (x, mu, sigma):\n",
    "    return 1/(sigma * (2 * np.pi)**0.5) * np.exp(-0.5 * ((x - mu) / sigma)**2)\n",
    "\n",
    "def gamma (x, mu1, sigma1, mu2, sigma2, p1, p2):\n",
    "    clase1 = p1 * normal(x, mu1, sigma1)\n",
    "    clase2 = p2 * normal(x, mu2, sigma2)\n",
    "    return clase1 / (clase1 + clase2)\n",
    "\n",
    "def set_datos ():\n",
    "    mu1 = 2\n",
    "    sigma1 = 1\n",
    "    mu2 = 4\n",
    "    sigma2 = 1\n",
    "    p1 = 0.5\n",
    "    p2 = 0.5\n",
    "    return mu1, sigma1, mu2, sigma2, p1, p2\n",
    "\n",
    "def em (datos, mu1, sigma1, mu2, sigma2, p1, p2, n1, n2):\n",
    "    gamma1 = []\n",
    "    gamma2 = []\n",
    "    for val in datos:\n",
    "        gamma1.append(gamma(val, mu1, sigma1, mu2, sigma2, p1, p2))\n",
    "        gamma2.append(1 - gamma(val, mu1, sigma1, mu2, sigma2, p1, p2))\n",
    "\n",
    "    \n",
    "    mu1 = sum([val * gamma1[i] for i, val in enumerate(datos)]) / n1\n",
    "    mu2 = sum([val * gamma2[i] for i, val in enumerate(datos)]) / n2\n",
    "\n",
    "    sigma1 = sum([(val - mu1)**2 * gamma1[i] for i, val in enumerate(datos)]) / n1\n",
    "    sigma2 = sum([(val - mu2)**2 * gamma2[i] for i, val in enumerate(datos)]) / n2\n",
    "\n",
    "    n1 = sum(gamma1)\n",
    "    n2 = sum(gamma2)\n",
    "\n",
    "    p1 = n1 / len(datos)\n",
    "    p2 = n2 / len(datos)\n",
    "\n",
    "    return mu1, sigma1, mu2, sigma2, p1, p2, n1, n2\n",
    "\n",
    "def algoritmo (datos, iteraciones):\n",
    "    mu1, sigma1, mu2, sigma2, p1, p2 = set_datos()\n",
    "    n1 = p1 * len(datos)\n",
    "    n2 = p2 * len(datos)\n",
    "    for i in range(iteraciones):\n",
    "        mu1, sigma1, mu2, sigma2, p1, p2, n1, n2 = em(datos, mu1, sigma1, mu2, sigma2, p1, p2, n1, n2)\n",
    "        print(\"CLASE 1\", mu1, sigma1, n1, p1)\n",
    "        print(\"CLASE 2\", mu2, sigma2, n2, p2)\n",
    "        print()\n",
    "\n",
    "c1 = [1.40, 2.22,  2.58, 2.35, 2.23]\n",
    "c2 = [6.97, 3.41, 3.58, 5.13, 6.23]\n",
    "datos = c1 + c2\n",
    "\n",
    "algoritmo(datos, 5)"
   ]
  }
 ],
 "metadata": {
  "kernelspec": {
   "display_name": "Python 3",
   "language": "python",
   "name": "python3"
  },
  "language_info": {
   "codemirror_mode": {
    "name": "ipython",
    "version": 3
   },
   "file_extension": ".py",
   "mimetype": "text/x-python",
   "name": "python",
   "nbconvert_exporter": "python",
   "pygments_lexer": "ipython3",
   "version": "3.9.6"
  },
  "orig_nbformat": 4
 },
 "nbformat": 4,
 "nbformat_minor": 2
}

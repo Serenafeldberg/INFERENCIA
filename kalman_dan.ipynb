{
 "cells": [
  {
   "cell_type": "code",
   "execution_count": 2,
   "metadata": {},
   "outputs": [],
   "source": [
    "import numpy as np\n",
    "import matplotlib.pyplot as plt"
   ]
  },
  {
   "cell_type": "markdown",
   "metadata": {},
   "source": [
    "# Ejemplo movimiento del auto\n",
    "\n",
    "El movimiento del auto esta dado por la siguiente matriz de estados:\n",
    "\n",
    "$$\n",
    "\\underline{X_{k+1}} = \\begin{bmatrix} x_k + v_k\\Delta t + \\frac{1}{2}a\\Delta t^2 \\\\ v_k + a\\Delta t \\end{bmatrix}\n",
    "\n",
    "$$\n",
    "\n",
    "Lo podemos reescribir como:\n",
    "$$\n",
    "\\underline{X_{k+1}} = \\begin{bmatrix} 1 & \\Delta t \\\\ 0 & 1\\end{bmatrix} \\underline{X_k} + \\begin{bmatrix} \\frac{1}{2}\\Delta t^2 \\\\ \\Delta t\\end{bmatrix}a \\quad a=N(0, \\sigma_a^2)\n",
    "$$\n",
    "Donde a representa el error del sistema\n",
    "\n",
    "Luego observamos la medicion del sistema (un gps o juan mirando el autito) y lo escribimos como  \n",
    "\n",
    "$$\n",
    "\\underline{Z_{k+1}} = \\begin{bmatrix} 1 & 0 \\end{bmatrix}\\underline{X_k} + \\epsilon_k \n",
    "$$\n",
    "\n",
    "Donde $\\epsilon_k$ representa el error de medicion de Juan\n",
    "\n",
    "Ahora llamamos: \n",
    "\n",
    "$$\n",
    "F = \\begin{bmatrix} 1 & \\Delta t \\\\ 0 & 1\\end{bmatrix} \n",
    "$$\n",
    "$$\n",
    "G = \\begin{bmatrix} \\frac{1}{2}\\Delta t^2 \\\\ \\Delta t\\end{bmatrix}\n",
    "$$\n",
    "$$\n",
    "H = \\begin{bmatrix} 1 & 0 \\end{bmatrix}\n",
    "$$\n",
    "\n",
    "Reescribo el funcionamiento del sistema como:\n",
    "$$\n",
    "\\underline{X_{k+1}} = F\\underline{X_k} + Ga\n",
    "$$\n",
    "\n",
    "$$\n",
    "\\underline{Z_{k+1}} = H\\underline{X_k} + \\epsilon_k\n",
    "$$\n",
    "\n",
    "Donde el primero representa lo medido + el error interno del sistema y el segundo lo observado + el error del sistema de obvservación\n",
    "\n",
    "\n",
    "\n",
    "\n"
   ]
  },
  {
   "cell_type": "markdown",
   "metadata": {},
   "source": [
    "\n",
    "Una vez que tengo estas definciones ya puedo calcular la posicion posta utilizando el filtro de kalman \n",
    "\n",
    "Para eso primero tengo que definir: $\\underline{X_0}$  $\\sigma_a$  $\\epsilon_k$ $P_0$ donde P es la matriz de covarianza del sistema que relaciona la correlación de los errores de medición con los de obvservación \n",
    "\n",
    "También definimos la matriz G, pero ya directo lo escribimos como $Q = GaG^T$ que es lo que después vamos a usar"
   ]
  },
  {
   "cell_type": "markdown",
   "metadata": {},
   "source": [
    "### Modelado del sistema"
   ]
  },
  {
   "cell_type": "code",
   "execution_count": 3,
   "metadata": {},
   "outputs": [],
   "source": [
    "\n",
    "# estado inicial\n",
    "x_pos = 0\n",
    "x_vel = 0.2\n",
    "tiempo = 100\n",
    "\n",
    "R = 1               # ruído de las mediciones\n",
    "ruido_proceso = 0.2 # ruído del proceso\n",
    "\n",
    "Q = np.array([[ruido_proceso,0],[0,0]])      # = GaG.T  \n",
    "P = np.eye(2)   # matriz de covarianza inicial\n"
   ]
  },
  {
   "cell_type": "markdown",
   "metadata": {},
   "source": [
    "Luego tenemos que definir en código el modelo del auto que presentamos anteriormente"
   ]
  },
  {
   "cell_type": "code",
   "execution_count": 4,
   "metadata": {},
   "outputs": [],
   "source": [
    "x_hat = np.array([x_pos, x_vel])\n",
    "F = np.array([[1, 1], [0, 1]]) # matriz de transición de estados\n",
    "H = np.array([[1, 0]])         # matriz de observación"
   ]
  },
  {
   "cell_type": "markdown",
   "metadata": {},
   "source": [
    "Ahora creamos $ \\underline{X}$ y $ \\underline{Z} $ que serían los arreglos del los estados y las mediciones con ruido para todos los tiempors\n"
   ]
  },
  {
   "cell_type": "code",
   "execution_count": 5,
   "metadata": {},
   "outputs": [],
   "source": [
    "x = np.array([[x_vel * t + np.random.normal(0, ruido_proceso), x_vel] for t in range(tiempo)])  # estado real del sistema (esto en realidad no lo sabemos)\n",
    "\n",
    "# mediciones del gps (tienen ruido)\n",
    "mediciones = [i[0] + np.random.normal(0, R) for i in x]  # mediciones de un sensor con ruido (en este caso el gps)"
   ]
  },
  {
   "cell_type": "markdown",
   "metadata": {},
   "source": [
    "### Filtro dadao el sistema, sus condiciones iniciales definidas y la trayectoria simulada"
   ]
  },
  {
   "cell_type": "markdown",
   "metadata": {},
   "source": [
    "Ahora empieza la parte del filtro de calman \n",
    "\n",
    "Lo que vamos a hacer es un loop que itere por cada instante de tiempo que hace los siguientes pasos:\n",
    "\n",
    "Paso 1: hago mis predicciones a priori y busco el error del sistema\n",
    "\n",
    "Calculo $\\hat{\\underline{X}}_{k+1}^´$ = $F\\underline{X_k}$ que es mi prediccion teorica a priori en el tiempo k+1\n",
    "\n",
    "Calculo $P_{k+1}$ = $FP_kF^T + Q$ que es la matriz de covarianza del sistema en el tiempo k+1 y esta la voy a ir corrigiendo\n",
    "\n",
    "Paso 2: calculo K que representa la ganancia de Kalman\n",
    "\n",
    "$S_k = HP_kH^T + \\sigma_a^2$\n",
    "\n",
    "$K_k = P_kH^TS_k^{-1}$\n",
    "\n",
    "Paso 3: Mirando la diferencia entre mi prediccion a priori y mi medicón hago una nueva predicción que también utiliza la ganancia de kalman que acabo de calcular y actualizo la matriz de covarianza del sistema (con esta nueva información) para que en el siguiente paso le erre por menos al estado real\n",
    "\n",
    "$\\hat{\\underline{X}}_{k+1} = \\hat{\\underline{X}}_{k+1}^´ + K \\underline{Z_k}- H\\hat{\\underline{X}}_{k}^´$\n",
    "\n",
    "$P_{k+1} = (I - KH)P_k$\n",
    "\n",
    "Ahora ya tengo mi posición filtrada por el filtro de kalman que es la que uso\n"
   ]
  },
  {
   "cell_type": "code",
   "execution_count": 9,
   "metadata": {},
   "outputs": [
    {
     "data": {
      "image/png": "[encoded data removed]",
      "text/plain": [
       "<Figure size 432x288 with 1 Axes>"
      ]
     },
     "metadata": {
      "needs_background": "light"
     },
     "output_type": "display_data"
    }
   ],
   "source": [
    "Kalman_gains = []\n",
    "kalman_filter = []\n",
    "for z in mediciones:\n",
    "    # Projection into K+1\n",
    "    x_hat_tick_plus_one = F.dot(x_hat) \n",
    "    P_tick = F.dot(P).dot(F.T) + Q \n",
    "\n",
    "    #Kalman gain\n",
    "    _s = H.dot(P_tick).dot(H.T) + R\n",
    "    K = P_tick.dot(H.T).dot(np.linalg.inv(_s)) # Matriz de cuanto le crees a la preediccion (0-> le creo completamente)\n",
    "    #update estimate\n",
    "    x_hat = x_hat_tick_plus_one + K.dot(z - H.dot(x_hat_tick_plus_one)) \n",
    "    #update covariance\n",
    "    P = (np.eye(2) - K.dot(H)).dot(P_tick)\n",
    "    Kalman_gains.append(K[0])\n",
    "    kalman_filter.append(x_hat[0])\n",
    "\n",
    "# Plot the results\n",
    "plt.plot(x[:, 0], label='posición real del auto')\n",
    "plt.plot(mediciones, 'ro', label='mediciones del gps (tienen ruido)')\n",
    "plt.plot(kalman_filter[:], 'g-', label='Kalman Filter')\n",
    "plt.legend()\n",
    "plt.xlabel('Tiempo')\n",
    "plt.ylabel('Posición')\n",
    "plt.show()"
   ]
  }
 ],
 "metadata": {
  "kernelspec": {
   "display_name": "AM3",
   "language": "python",
   "name": "python3"
  },
  "language_info": {
   "codemirror_mode": {
    "name": "ipython",
    "version": 3
   },
   "file_extension": ".py",
   "mimetype": "text/x-python",
   "name": "python",
   "nbconvert_exporter": "python",
   "pygments_lexer": "ipython3",
   "version": "3.9.6"
  }
 },
 "nbformat": 4,
 "nbformat_minor": 2
}

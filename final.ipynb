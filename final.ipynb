{
 "cells": [
  {
   "cell_type": "code",
   "execution_count": 2,
   "metadata": {},
   "outputs": [],
   "source": [
    "import numpy as np "
   ]
  },
  {
   "cell_type": "markdown",
   "metadata": {},
   "source": [
    "EJERCICIO 1\n",
    "- Estimar la entropía de una distribución uniforme U(-3,3) y de una distribución gaussiana N(0,1)"
   ]
  },
  {
   "cell_type": "code",
   "execution_count": 3,
   "metadata": {},
   "outputs": [
    {
     "name": "stdout",
     "output_type": "stream",
     "text": [
      "Entropia uniforme:  2.578041307042658\n",
      "Entropia normal:  2.1640937568608103\n"
     ]
    }
   ],
   "source": [
    "uniforme = np.random.uniform (-3, 3, 1000)\n",
    "normal = np.random.normal (0, 1, 1000)\n",
    "\n",
    "def entropia (x, n_bins = 5):\n",
    "    x, edges = np.histogram(x, bins=n_bins)\n",
    "    ancho = edges[1] - edges[0]\n",
    "    p_x = (x/np.sum(x))\n",
    "    h_x = 0\n",
    "    for p in p_x:\n",
    "        # - sumatoria p(x) log (p(x))\n",
    "        if p != 0:\n",
    "            h_x -= p * np.log2(p/ancho)\n",
    "    return h_x\n",
    "\n",
    "print (\"Entropia uniforme: \", entropia (uniforme))\n",
    "print (\"Entropia normal: \", entropia (normal))"
   ]
  }
 ],
 "metadata": {
  "kernelspec": {
   "display_name": "Python 3",
   "language": "python",
   "name": "python3"
  },
  "language_info": {
   "codemirror_mode": {
    "name": "ipython",
    "version": 3
   },
   "file_extension": ".py",
   "mimetype": "text/x-python",
   "name": "python",
   "nbconvert_exporter": "python",
   "pygments_lexer": "ipython3",
   "version": "3.9.6"
  },
  "orig_nbformat": 4
 },
 "nbformat": 4,
 "nbformat_minor": 2
}

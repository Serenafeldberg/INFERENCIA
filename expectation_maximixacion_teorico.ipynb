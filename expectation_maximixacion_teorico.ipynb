{
 "cells": [
  {
   "cell_type": "code",
   "execution_count": 2,
   "metadata": {},
   "outputs": [],
   "source": [
    "#dado una serie de datos se quiere buscar la media y varianza de dos distribuciones normales que se ajusten a los datos\n",
    "#se usa el algoritmo de expectation maximization para encontrar los parametros de las distribuciones normales\n",
    "\n",
    "import numpy as np\n",
    "import matplotlib.pyplot as plt\n",
    "from scipy.stats import norm\n",
    "\n"
   ]
  },
  {
   "cell_type": "code",
   "execution_count": 21,
   "metadata": {},
   "outputs": [
    {
     "name": "stdout",
     "output_type": "stream",
     "text": [
      "3.303498061176764 10.14948324405806 1.7844514626217354 1.7354880337598702 0.342584749764341 0.657415250235659\n"
     ]
    }
   ],
   "source": [
    "\n",
    "sample_1 = np.random.normal(3, 2, 50)\n",
    "sample_2 = np.random.normal(10, 2, 100)\n",
    "\n",
    "def expectation_maximization(sample ,iterations=100):\n",
    "    pi1 = 0.5\n",
    "    pi2 = 0.5\n",
    "    # mu1=np.random.uniform(0, 10)\n",
    "    # mu2=np.random.uniform(0, 10)\n",
    "    # sigma1=np.random.uniform(0, 5)\n",
    "    # sigma2=np.random.uniform(0, 5)\n",
    "    mu1 = 1\n",
    "    mu2 = 5\n",
    "    sigma1 = 1\n",
    "    sigma2 = 1\n",
    "    n1 = pi1*len(sample)\n",
    "    n2 = pi2*len(sample)\n",
    "    for i in range(iterations):\n",
    "        #expectation step\n",
    "        gamma1 = pi1*norm.pdf(sample, mu1, sigma1)\n",
    "        gamma2 = pi2*norm.pdf(sample, mu2, sigma2)\n",
    "        gamma11 = gamma1/(gamma1+gamma2)\n",
    "        gamma22 = gamma2/(gamma1+gamma2)\n",
    "        #maximization step\n",
    "        n1 = np.sum(gamma11)\n",
    "        n2 = np.sum(gamma22)\n",
    "        mu1 = (1/n1)*np.sum(gamma11*sample)\n",
    "        mu2 = (1/n2)*np.sum(gamma22*sample)\n",
    "        sigma1 = np.sqrt((1/n1)*np.sum(gamma11*(sample-mu1)**2))\n",
    "        sigma2 = np.sqrt((1/n2)*np.sum(gamma22*(sample-mu2)**2))\n",
    "        # n1=np.sum(gamma11)\n",
    "        # n2=np.sum(gamma22)\n",
    "        pi1 = n1/len(sample)\n",
    "        pi2 = n2/len(sample)\n",
    "    return mu1, mu2, sigma1, sigma2, pi1, pi2\n",
    "\n",
    "sample = np.concatenate((sample_1, sample_2))\n",
    "# c1 = [1.40, 2.22,  2.58, 2.35, 2.23]\n",
    "# c2 = [6.97, 3.41, 3.58, 5.13, 6.23]\n",
    "# c1=np.array(c1)\n",
    "# c2=np.array(c2)\n",
    "# sample = np.concatenate((c1, c2))\n",
    "\n",
    "mu1, mu2, sigma1, sigma2, pi1, pi2 = expectation_maximization(sample,10000)\n",
    "print(mu1, mu2, sigma1, sigma2, pi1, pi2)\n",
    "        \n",
    "\n",
    "\n"
   ]
  },
  {
   "cell_type": "code",
   "execution_count": 12,
   "metadata": {},
   "outputs": [
    {
     "name": "stdout",
     "output_type": "stream",
     "text": [
      "(2.4485796197111443e-06, 0.9999975514203803)\n"
     ]
    }
   ],
   "source": [
    "#calcular gamma\n",
    "# sigma es la raiz de la varianza. Cuando actualizo sigma, tengo que hacerle la raiz porque la formula de la actualizacion tiene el cuadrado. \n",
    "def gamma(sample, mu1, mu2, sigma1, sigma2, pi1, pi2):\n",
    "    gamma1 = pi1*norm.pdf(sample, mu1, sigma1)\n",
    "    gamma2 = pi2*norm.pdf(sample, mu2, sigma2)\n",
    "    gamma11 = gamma1/(gamma1+gamma2)\n",
    "    gamma22 = gamma2/(gamma1+gamma2)\n",
    "    return gamma11, gamma22\n",
    "\n",
    "print(gamma(6.23, 1, 5, 1, 1, 0.5, 0.5))"
   ]
  },
  {
   "cell_type": "code",
   "execution_count": null,
   "metadata": {},
   "outputs": [],
   "source": []
  }
 ],
 "metadata": {
  "kernelspec": {
   "display_name": "Python 3",
   "language": "python",
   "name": "python3"
  },
  "language_info": {
   "codemirror_mode": {
    "name": "ipython",
    "version": 3
   },
   "file_extension": ".py",
   "mimetype": "text/x-python",
   "name": "python",
   "nbconvert_exporter": "python",
   "pygments_lexer": "ipython3",
   "version": "3.10.12"
  }
 },
 "nbformat": 4,
 "nbformat_minor": 2
}
